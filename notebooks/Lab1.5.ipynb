{
 "cells": [
  {
   "cell_type": "markdown",
   "id": "8dec674e",
   "metadata": {},
   "source": [
    "# Gaming Data Lab — Steam (ARPG focus)\n",
    "\n",
    "**Datasets used:**  \n",
    "- `steam.csv` — core metadata (name, release date, genres, price, reviews, etc.)  \n",
    "- `steamspy_tag_data.csv` — SteamSpy tag coverage per game (wide format)\n",
    "\n",
    "**Why this dataset?**  \n",
    "I love ARPGs, so I’m analyzing how ARPGs compare to the broader Steam catalog (prevalence, pricing, reviews, release trends, and common co-tags).\n",
    "\n",
    "**What this notebook does:**  \n",
    "1. Loads + lightly cleans Steam + SteamSpy CSVs  \n",
    "2. Defines an ARPG flag (via “Action RPG” tag or “Action”+“RPG” in genres)  \n",
    "3. Answers 5 questions with Pandas, each with a brief written answer\n"
   ]
  },
  {
   "cell_type": "code",
   "execution_count": null,
   "id": "6572755c",
   "metadata": {},
   "outputs": [],
   "source": [
    "import pandas as pd\n",
    "import numpy as np\n",
    "import matplotlib.pyplot as plt\n",
    "from pathlib import Path\n",
    "from IPython.display import Markdown, display\n",
    "\n",
    "def say(md: str):\n",
    "    \"\"\"Render a Markdown string from a code cell.\"\"\"\n",
    "    display(Markdown(md))\n",
    "\n",
    "def fmt_money(x):\n",
    "    import pandas as pd\n",
    "    import numpy as np\n",
    "    if x is None or (isinstance(x, float) and (pd.isna(x) or np.isnan(x))):\n",
    "        return \"N/A\"\n",
    "    return f\"${x:,.2f}\"\n",
    "\n",
    "# Paths (works from root or notebooks/)\n",
    "ROOT = Path.cwd().parent if Path.cwd().name == \"notebooks\" else Path.cwd()\n",
    "DATA = ROOT / \"data\"\n",
    "OUT  = ROOT / \"reports\"\n",
    "OUT.mkdir(exist_ok=True, parents=True)\n",
    "\n",
    "pd.set_option(\"display.max_rows\", 20)\n",
    "pd.set_option(\"display.max_columns\", 50)\n"
   ]
  },
  {
   "cell_type": "code",
   "execution_count": null,
   "id": "6016cbae",
   "metadata": {},
   "outputs": [],
   "source": [
    "steam = pd.read_csv(DATA / \"steam.csv\")\n",
    "tags  = pd.read_csv(DATA / \"steamspy_tag_data.csv\")\n",
    "\n",
    "steam.head(), tags.head()\n"
   ]
  },
  {
   "cell_type": "markdown",
   "id": "6ab69157",
   "metadata": {},
   "source": [
    "## Dataset Summary\n",
    "\n",
    "- **steam.csv** includes fields such as:\n",
    "  - `appid`, `name`, `release_date`, `genres`, `steamspy_tags`, `publisher`, `developer`\n",
    "  - `price`, `positive_ratings`, `negative_ratings`, `owners` (range), `average_playtime`, `median_playtime`\n",
    "- **steamspy_tag_data.csv**: one row per `appid`, with many tag columns holding percentage coverage for that tag.\n",
    "\n",
    "**Why it’s interesting:**  \n",
    "This data lets me focus specifically on **Action RPGs (ARPGs)** versus other Steam titles — comparing prevalence, pricing, player review signals, year-over-year release trends, and common co-tags that characterize the ARPG space.\n"
   ]
  },
  {
   "cell_type": "code",
   "execution_count": null,
   "id": "54a31268",
   "metadata": {},
   "outputs": [],
   "source": [
    "# standardize column names\n",
    "steam.columns = [c.lower() for c in steam.columns]\n",
    "tags.columns  = [c.lower()  for c in tags.columns]\n",
    "\n",
    "# keep a useful subset if present\n",
    "keep = [\n",
    "    \"appid\",\"name\",\"release_date\",\"english\",\"developer\",\"publisher\",\n",
    "    \"platforms\",\"required_age\",\"categories\",\"genres\",\"steamspy_tags\",\n",
    "    \"achievements\",\"positive_ratings\",\"negative_ratings\",\"average_playtime\",\n",
    "    \"median_playtime\",\"owners\",\"price\"\n",
    "]\n",
    "steam = steam[[c for c in keep if c in steam.columns]].copy()\n",
    "\n",
    "# release year\n",
    "steam[\"release_year\"] = pd.to_datetime(steam[\"release_date\"], errors=\"coerce\").dt.year\n",
    "\n",
    "# total reviews\n",
    "steam[\"positive_ratings\"] = pd.to_numeric(steam[\"positive_ratings\"], errors=\"coerce\").fillna(0)\n",
    "steam[\"negative_ratings\"] = pd.to_numeric(steam[\"negative_ratings\"], errors=\"coerce\").fillna(0)\n",
    "steam[\"reviews_total\"] = steam[\"positive_ratings\"] + steam[\"negative_ratings\"]\n",
    "\n",
    "# ARPG flag:\n",
    "#   True if \"Action RPG\" appears in steamspy_tags\n",
    "#   Or if genres contains both \"Action\" and \"RPG\"\n",
    "def is_arpg_row(row):\n",
    "    g  = (row.get(\"genres\") or \"\").lower()\n",
    "    st = (row.get(\"steamspy_tags\") or \"\").lower()\n",
    "    return (\"action rpg\" in st) or (\"action\" in g and \"rpg\" in g)\n",
    "\n",
    "steam[\"is_arpg\"] = steam.apply(is_arpg_row, axis=1)\n",
    "\n",
    "# reshape steamspy_tag_data to long form:\n",
    "# resulting columns: appid, tag, pct\n",
    "tag_long = (\n",
    "    tags\n",
    "    .set_index(\"appid\")\n",
    "    .stack()\n",
    "    .reset_index(name=\"pct\")         # value column named \"pct\"\n",
    "    .rename(columns={\"level_1\": \"tag\"})\n",
    ")\n",
    "\n",
    "# keep only positive% tags\n",
    "tag_long = tag_long[tag_long[\"pct\"] > 0]\n",
    "\n",
    "steam.head(3), tag_long.head(3)\n"
   ]
  },
  {
   "cell_type": "markdown",
   "id": "94a0b264",
   "metadata": {},
   "source": [
    "## Q1. How common are ARPGs on Steam?\n",
    "We estimate ARPG status using tags/genres. What fraction of Steam titles are ARPGs?"
   ]
  },
  {
   "cell_type": "code",
   "execution_count": null,
   "id": "f19084e1",
   "metadata": {},
   "outputs": [],
   "source": [
    "total_games = len(steam)\n",
    "arpg_games  = int(steam[\"is_arpg\"].sum())\n",
    "pct_arpg    = (arpg_games / total_games * 100) if total_games else np.nan\n",
    "\n",
    "print(f\"ARPG games: {arpg_games:,} out of {total_games:,} ({pct_arpg:.2f}%)\")\n"
   ]
  },
  {
   "cell_type": "code",
   "execution_count": null,
   "id": "b354b2ce",
   "metadata": {},
   "outputs": [],
   "source": [
    "say(\n",
    "    f\"**Answer:** ARPGs represent approximately **{pct_arpg:.2f}%** of Steam titles \"\n",
    "    f\"(**{arpg_games:,}** of **{total_games:,}**).\"\n",
    ")\n"
   ]
  },
  {
   "cell_type": "markdown",
   "id": "c414167b",
   "metadata": {},
   "source": [
    "## Q2. Do ARPGs tend to be priced differently than other games?\n",
    "We compare median prices across ARPG vs Non-ARPG. We also report a “paid-only” comparison (excluding free games).\n"
   ]
  },
  {
   "cell_type": "code",
   "execution_count": null,
   "id": "a985d935",
   "metadata": {},
   "outputs": [],
   "source": [
    "price_summary_all = (\n",
    "    steam[[\"is_arpg\",\"price\"]]\n",
    "    .dropna(subset=[\"price\"])\n",
    "    .groupby(\"is_arpg\")[\"price\"]\n",
    "    .median()\n",
    "    .rename({False:\"Non-ARPG\", True:\"ARPG\"})\n",
    "    .sort_index()\n",
    ")\n",
    "price_summary_all\n"
   ]
  },
  {
   "cell_type": "code",
   "execution_count": null,
   "id": "07140377",
   "metadata": {},
   "outputs": [],
   "source": [
    "price_paid = steam.loc[steam[\"price\"].notna() & (steam[\"price\"] > 0), [\"is_arpg\",\"price\"]]\n",
    "price_summary_paid = price_paid.groupby(\"is_arpg\")[\"price\"].median().rename({False:\"Non-ARPG\", True:\"ARPG\"})\n",
    "price_summary_paid\n"
   ]
  },
  {
   "cell_type": "code",
   "execution_count": null,
   "id": "06c1ae70",
   "metadata": {},
   "outputs": [],
   "source": [
    "ax = price_paid.replace({True:\"ARPG\", False:\"Non-ARPG\"}).boxplot(by=\"is_arpg\", column=\"price\", grid=False, figsize=(6,4))\n",
    "plt.suptitle(\"\")\n",
    "plt.title(\"Price distribution (paid-only)\")\n",
    "plt.ylabel(\"Price (USD)\")\n",
    "plt.tight_layout()\n",
    "plt.savefig(OUT / \"price_arpg_vs_non_paid.png\", bbox_inches=\"tight\")\n"
   ]
  },
  {
   "cell_type": "code",
   "execution_count": null,
   "id": "1d0b8837",
   "metadata": {},
   "outputs": [],
   "source": [
    "arpg_all  = price_summary_all.get(True,  float(\"nan\"))\n",
    "non_all   = price_summary_all.get(False, float(\"nan\"))\n",
    "arpg_paid = price_summary_paid.get(True,  float(\"nan\"))\n",
    "non_paid  = price_summary_paid.get(False, float(\"nan\"))\n",
    "\n",
    "say(\n",
    "    \"**Answer:** \"\n",
    "    f\"All titles median price — ARPG **{fmt_money(arpg_all)}** vs Non-ARPG **{fmt_money(non_all)}**.  \\n\"\n",
    "    f\"Paid-only median price — ARPG **{fmt_money(arpg_paid)}** vs Non-ARPG **{fmt_money(non_paid)}**.\"\n",
    ")"
   ]
  },
  {
   "cell_type": "markdown",
   "id": "4d83c1e9",
   "metadata": {},
   "source": [
    "## Q3. Do ARPGs get more positive review share?\n",
    "We compute % positive = positive_ratings / (positive + negative), then compare medians across ARPG vs Non-ARPG."
   ]
  },
  {
   "cell_type": "code",
   "execution_count": null,
   "id": "f0dd05aa",
   "metadata": {},
   "outputs": [],
   "source": [
    "rev = steam[[\"is_arpg\",\"positive_ratings\",\"negative_ratings\"]].copy()\n",
    "rev[[\"positive_ratings\",\"negative_ratings\"]] = rev[[\"positive_ratings\",\"negative_ratings\"]].fillna(0)\n",
    "rev[\"total\"] = rev[\"positive_ratings\"] + rev[\"negative_ratings\"]\n",
    "rev = rev.loc[rev[\"total\"] > 0].copy()\n",
    "rev[\"pos_rate\"] = rev[\"positive_ratings\"] / rev[\"total\"]\n",
    "\n",
    "med_pos_rate = rev.groupby(\"is_arpg\")[\"pos_rate\"].median().rename({False:\"Non-ARPG\", True:\"ARPG\"})\n",
    "med_pos_rate\n"
   ]
  },
  {
   "cell_type": "code",
   "execution_count": null,
   "id": "23a9891c",
   "metadata": {},
   "outputs": [],
   "source": [
    "say(\n",
    "    f\"**Answer:** Median positive-review share — \"\n",
    "    f\"ARPG **{med_pos_rate.get(True, float('nan')):.1%}** vs \"\n",
    "    f\"Non-ARPG **{med_pos_rate.get(False, float('nan')):.1%}**.\"\n",
    ")\n"
   ]
  },
  {
   "cell_type": "markdown",
   "id": "7e81fc3c",
   "metadata": {},
   "source": [
    "## Q4. How has ARPG release volume changed over time?\n",
    "We count distinct ARPG titles per release year and plot the last decade."
   ]
  },
  {
   "cell_type": "code",
   "execution_count": null,
   "id": "5ee62641",
   "metadata": {},
   "outputs": [],
   "source": [
    "arpg_by_year = (\n",
    "    steam.loc[steam[\"is_arpg\"] & steam[\"release_year\"].notna()]\n",
    "         .groupby(\"release_year\")[\"appid\"].nunique()\n",
    "         .astype(int)\n",
    "         .sort_index()\n",
    ")\n",
    "\n",
    "ax = arpg_by_year.plot(kind=\"bar\", figsize=(10,3), title=\"ARPG releases per year\")\n",
    "ax.set_xlabel(\"Year\"); ax.set_ylabel(\"# ARPGs\")\n",
    "plt.tight_layout()\n",
    "plt.savefig(OUT / \"arpg_by_year.png\", bbox_inches=\"tight\")\n",
    "\n",
    "arpg_by_year.tail(12)\n"
   ]
  },
  {
   "cell_type": "code",
   "execution_count": null,
   "id": "38d9dc1e",
   "metadata": {},
   "outputs": [],
   "source": [
    "if len(arpg_by_year):\n",
    "    peak_year = int(arpg_by_year.idxmax())\n",
    "    peak_val  = int(arpg_by_year.max())\n",
    "    tail_txt  = \", \".join(f\"{int(y)}: {int(n)}\" for y, n in arpg_by_year.tail(10).items())\n",
    "else:\n",
    "    peak_year, peak_val, tail_txt = \"N/A\", \"N/A\", \"(no data)\"\n",
    "\n",
    "say(\n",
    "    f\"**Answer:** ARPG releases peak in **{peak_year}** with **{peak_val}** titles.  \\n\"\n",
    "    f\"Recent years (last 10): {tail_txt}.  \\n\"\n",
    "    \"See the figure saved to `reports/arpg_by_year.png`.\"\n",
    ")\n"
   ]
  },
  {
   "cell_type": "markdown",
   "id": "9680273c",
   "metadata": {},
   "source": [
    "## Q5. What tags most often co-occur with ARPGs?\n",
    "Using the long tag table, we sum tag percentages across ARPG titles and list the top co-tags."
   ]
  },
  {
   "cell_type": "code",
   "execution_count": null,
   "id": "6267d5f3",
   "metadata": {},
   "outputs": [],
   "source": [
    "top_arpg_tags = (\n",
    "    tag_long.merge(steam[[\"appid\",\"is_arpg\"]], on=\"appid\", how=\"inner\")\n",
    "            .query(\"is_arpg == True\")\n",
    "            .groupby(\"tag\")[\"pct\"].sum()\n",
    "            .sort_values(ascending=False)\n",
    "            .head(15)\n",
    ")\n",
    "\n",
    "top_arpg_tags.to_frame(\"sum_pct\")\n"
   ]
  },
  {
   "cell_type": "code",
   "execution_count": null,
   "id": "5d459617",
   "metadata": {},
   "outputs": [],
   "source": [
    "top5 = \", \".join(top_arpg_tags.head(5).index.tolist()) if len(top_arpg_tags) else \"N/A\"\n",
    "say(f\"**Answer:** Common ARPG co-tags include: **{top5}**.\")\n"
   ]
  },
  {
   "cell_type": "markdown",
   "id": "39888779",
   "metadata": {},
   "source": [
    "## Is there a relationship between price and total reviews for ARPGs?\n",
    "We compute Pearson correlation and show a scatterplot.\n"
   ]
  },
  {
   "cell_type": "code",
   "execution_count": null,
   "id": "a374ff20",
   "metadata": {},
   "outputs": [],
   "source": [
    "arpg = steam.loc[steam[\"is_arpg\"]].copy()\n",
    "arpg[\"reviews_total\"] = arpg[\"reviews_total\"].fillna(0)\n",
    "arpg_plot = arpg.loc[arpg[\"price\"].notna() & arpg[\"reviews_total\"].notna()].copy()\n",
    "\n",
    "corr = arpg_plot[[\"price\",\"reviews_total\"]].corr().loc[\"price\",\"reviews_total\"]\n",
    "ax = arpg_plot.plot(kind=\"scatter\", x=\"price\", y=\"reviews_total\", alpha=0.3,\n",
    "                    title=f\"ARPG price vs reviews_total (corr={corr:.2f})\", figsize=(6,4))\n",
    "plt.tight_layout()\n",
    "plt.savefig(OUT / \"arpg_price_vs_reviews.png\", bbox_inches=\"tight\")\n",
    "\n",
    "float(corr)\n"
   ]
  },
  {
   "cell_type": "code",
   "execution_count": null,
   "id": "716503fc",
   "metadata": {},
   "outputs": [],
   "source": [
    "say(f\"**Answer:** Price–reviews correlation for ARPGs is **{corr:.2f}** \"\n",
    "    \"(near 0 = weak linear relationship).\")\n"
   ]
  }
 ],
 "metadata": {
  "kernelspec": {
   "display_name": "Python 3",
   "language": "python",
   "name": "python3"
  },
  "language_info": {
   "codemirror_mode": {
    "name": "ipython",
    "version": 3
   },
   "file_extension": ".py",
   "mimetype": "text/x-python",
   "name": "python",
   "nbconvert_exporter": "python",
   "pygments_lexer": "ipython3",
   "version": "3.11.9"
  }
 },
 "nbformat": 4,
 "nbformat_minor": 5
}
