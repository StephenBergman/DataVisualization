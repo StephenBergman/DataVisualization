{
 "cells": [
  {
   "cell_type": "markdown",
   "id": "8dec674e",
   "metadata": {},
   "source": [
    "# Gaming Data Lab — Steam (ARPG focus)\n",
    "\n",
    "**Datasets used:**  \n",
    "- `steam.csv` — core metadata (name, release date, genres, price, reviews, etc.)  \n",
    "- `steamspy_tag_data.csv` — SteamSpy tag coverage per game (wide format)\n",
    "\n",
    "**Why this dataset?**  \n",
    "I love ARPGs, so I’m analyzing how ARPGs compare to the broader Steam catalog (prevalence, pricing, reviews, release trends, and common co-tags).\n",
    "\n",
    "**What this notebook does:**  \n",
    "1. Loads + lightly cleans Steam + SteamSpy CSVs  \n",
    "2. Defines an ARPG flag (via “Action RPG” tag or “Action”+“RPG” in genres)  \n",
    "3. Answers 5 questions with Pandas, each with a brief written answer\n"
   ]
  },
  {
   "cell_type": "code",
   "execution_count": 1,
   "id": "6572755c",
   "metadata": {},
   "outputs": [],
   "source": [
    "import pandas as pd\n",
    "import numpy as np\n",
    "import matplotlib.pyplot as plt\n",
    "from pathlib import Path\n",
    "from IPython.display import Markdown, display\n",
    "\n",
    "def say(md: str):\n",
    "    \"\"\"Render a Markdown string from a code cell.\"\"\"\n",
    "    display(Markdown(md))\n",
    "\n",
    "def fmt_money(x):\n",
    "    import pandas as pd\n",
    "    import numpy as np\n",
    "    if x is None or (isinstance(x, float) and (pd.isna(x) or np.isnan(x))):\n",
    "        return \"N/A\"\n",
    "    return f\"${x:,.2f}\"\n",
    "\n",
    "# Paths \n",
    "ROOT = Path.cwd().parent if Path.cwd().name == \"notebooks\" else Path.cwd()\n",
    "DATA = ROOT / \"data\"\n",
    "OUT  = ROOT / \"reports\"\n",
    "OUT.mkdir(exist_ok=True, parents=True)\n",
    "\n",
    "pd.set_option(\"display.max_rows\", 20)\n",
    "pd.set_option(\"display.max_columns\", 50)\n"
   ]
  },
  {
   "cell_type": "code",
   "execution_count": 2,
   "id": "6016cbae",
   "metadata": {},
   "outputs": [
    {
     "data": {
      "text/plain": [
       "(   appid                       name release_date  english         developer  \\\n",
       " 0     10             Counter-Strike   2000-11-01        1             Valve   \n",
       " 1     20      Team Fortress Classic   1999-04-01        1             Valve   \n",
       " 2     30              Day of Defeat   2003-05-01        1             Valve   \n",
       " 3     40         Deathmatch Classic   2001-06-01        1             Valve   \n",
       " 4     50  Half-Life: Opposing Force   1999-11-01        1  Gearbox Software   \n",
       " \n",
       "   publisher          platforms  required_age  \\\n",
       " 0     Valve  windows;mac;linux             0   \n",
       " 1     Valve  windows;mac;linux             0   \n",
       " 2     Valve  windows;mac;linux             0   \n",
       " 3     Valve  windows;mac;linux             0   \n",
       " 4     Valve  windows;mac;linux             0   \n",
       " \n",
       "                                           categories  genres  \\\n",
       " 0  Multi-player;Online Multi-Player;Local Multi-P...  Action   \n",
       " 1  Multi-player;Online Multi-Player;Local Multi-P...  Action   \n",
       " 2              Multi-player;Valve Anti-Cheat enabled  Action   \n",
       " 3  Multi-player;Online Multi-Player;Local Multi-P...  Action   \n",
       " 4  Single-player;Multi-player;Valve Anti-Cheat en...  Action   \n",
       " \n",
       "                   steamspy_tags  achievements  positive_ratings  \\\n",
       " 0        Action;FPS;Multiplayer             0            124534   \n",
       " 1        Action;FPS;Multiplayer             0              3318   \n",
       " 2  FPS;World War II;Multiplayer             0              3416   \n",
       " 3        Action;FPS;Multiplayer             0              1273   \n",
       " 4             FPS;Action;Sci-fi             0              5250   \n",
       " \n",
       "    negative_ratings  average_playtime  median_playtime             owners  \\\n",
       " 0              3339             17612              317  10000000-20000000   \n",
       " 1               633               277               62   5000000-10000000   \n",
       " 2               398               187               34   5000000-10000000   \n",
       " 3               267               258              184   5000000-10000000   \n",
       " 4               288               624              415   5000000-10000000   \n",
       " \n",
       "    price  \n",
       " 0   7.19  \n",
       " 1   3.99  \n",
       " 2   3.99  \n",
       " 3   3.99  \n",
       " 4   3.99  ,\n",
       "    appid  1980s  1990s  2.5d  2d  2d_fighter  360_video  3d  3d_platformer  \\\n",
       " 0     10    144    564     0   0           0          0   0              0   \n",
       " 1     20      0     71     0   0           0          0   0              0   \n",
       " 2     30      0      0     0   0           0          0   0              0   \n",
       " 3     40      0      0     0   0           0          0   0              0   \n",
       " 4     50      0     77     0   0           0          0   0              0   \n",
       " \n",
       "    3d_vision  4_player_local  4x  6dof  atv  abstract  action  action_rpg  \\\n",
       " 0          0               0   0     0    0         0    2681           0   \n",
       " 1          0               0   0     0    0         0     208           0   \n",
       " 2          0               0   0     0    0         0      99           0   \n",
       " 3          0               0   0     0    0         0      85           0   \n",
       " 4          0               0   0     0    0         0     211           0   \n",
       " \n",
       "    action_adventure  addictive  adventure  agriculture  aliens  \\\n",
       " 0                 0          0          0            0       0   \n",
       " 1                 0          0         15            0       0   \n",
       " 2                 0          0          0            0       0   \n",
       " 3                 0          0          0            0       0   \n",
       " 4                 0          0         87            0     122   \n",
       " \n",
       "    alternate_history  america  animation_&_modeling  ...  underwater  \\\n",
       " 0                  0        0                     0  ...           0   \n",
       " 1                  0        0                     0  ...           0   \n",
       " 2                  0        0                     0  ...           0   \n",
       " 3                  0        0                     0  ...           0   \n",
       " 4                  0        0                     0  ...           0   \n",
       " \n",
       "    unforgiving  utilities  vr  vr_only  vampire  video_production  \\\n",
       " 0            0          0   0        0        0                 0   \n",
       " 1            0          0   0        0        0                 0   \n",
       " 2            0          0   0        0        0                 0   \n",
       " 3            0          0   0        0        0                 0   \n",
       " 4            0          0   0        0        0                 0   \n",
       " \n",
       "    villain_protagonist  violent  visual_novel  voice_control  voxel  \\\n",
       " 0                    0       40             0              0      0   \n",
       " 1                    0       26             0              0      0   \n",
       " 2                    0        0             0              0      0   \n",
       " 3                    0        0             0              0      0   \n",
       " 4                    0        0             0              0      0   \n",
       " \n",
       "    walking_simulator  war  wargame  warhammer_40k  web_publishing  werewolves  \\\n",
       " 0                  0    0        0              0               0           0   \n",
       " 1                  0    0        0              0               0           0   \n",
       " 2                  0   80        0              0               0           0   \n",
       " 3                  0    0        0              0               0           0   \n",
       " 4                  0    0        0              0               0           0   \n",
       " \n",
       "    western  word_game  world_war_i  world_war_ii  wrestling  zombies  e_sports  \n",
       " 0        0          0            0             0          0        0       550  \n",
       " 1        0          0            0             0          0        0         0  \n",
       " 2        0          0            5           122          0        0         0  \n",
       " 3        0          0            0             0          0        0         0  \n",
       " 4        0          0            0             0          0        0         0  \n",
       " \n",
       " [5 rows x 372 columns])"
      ]
     },
     "execution_count": 2,
     "metadata": {},
     "output_type": "execute_result"
    }
   ],
   "source": [
    "steam = pd.read_csv(DATA / \"steam.csv\")\n",
    "tags  = pd.read_csv(DATA / \"steamspy_tag_data.csv\")\n",
    "\n",
    "steam.head(), tags.head()\n"
   ]
  },
  {
   "cell_type": "markdown",
   "id": "6ab69157",
   "metadata": {},
   "source": [
    "## Dataset Summary\n",
    "\n",
    "- **steam.csv** includes fields such as:\n",
    "  - `appid`, `name`, `release_date`, `genres`, `steamspy_tags`, `publisher`, `developer`\n",
    "  - `price`, `positive_ratings`, `negative_ratings`, `owners` (range), `average_playtime`, `median_playtime`\n",
    "- **steamspy_tag_data.csv**: one row per `appid`, with many tag columns holding percentage coverage for that tag.\n",
    "\n",
    "**Why it’s interesting:**  \n",
    "This data lets me focus specifically on **Action RPGs (ARPGs)** versus other Steam titles — comparing prevalence, pricing, player review signals, year-over-year release trends, and common co-tags that characterize the ARPG space.\n"
   ]
  },
  {
   "cell_type": "code",
   "execution_count": 3,
   "id": "54a31268",
   "metadata": {},
   "outputs": [
    {
     "data": {
      "text/plain": [
       "(   appid                   name release_date  english developer publisher  \\\n",
       " 0     10         Counter-Strike   2000-11-01        1     Valve     Valve   \n",
       " 1     20  Team Fortress Classic   1999-04-01        1     Valve     Valve   \n",
       " 2     30          Day of Defeat   2003-05-01        1     Valve     Valve   \n",
       " \n",
       "            platforms  required_age  \\\n",
       " 0  windows;mac;linux             0   \n",
       " 1  windows;mac;linux             0   \n",
       " 2  windows;mac;linux             0   \n",
       " \n",
       "                                           categories  genres  \\\n",
       " 0  Multi-player;Online Multi-Player;Local Multi-P...  Action   \n",
       " 1  Multi-player;Online Multi-Player;Local Multi-P...  Action   \n",
       " 2              Multi-player;Valve Anti-Cheat enabled  Action   \n",
       " \n",
       "                   steamspy_tags  achievements  positive_ratings  \\\n",
       " 0        Action;FPS;Multiplayer             0            124534   \n",
       " 1        Action;FPS;Multiplayer             0              3318   \n",
       " 2  FPS;World War II;Multiplayer             0              3416   \n",
       " \n",
       "    negative_ratings  average_playtime  median_playtime             owners  \\\n",
       " 0              3339             17612              317  10000000-20000000   \n",
       " 1               633               277               62   5000000-10000000   \n",
       " 2               398               187               34   5000000-10000000   \n",
       " \n",
       "    price  release_year  reviews_total  is_arpg  \n",
       " 0   7.19          2000         127873    False  \n",
       " 1   3.99          1999           3951    False  \n",
       " 2   3.99          2003           3814    False  ,\n",
       "     appid     tag   pct\n",
       " 0      10   1980s   144\n",
       " 1      10   1990s   564\n",
       " 14     10  action  2681)"
      ]
     },
     "execution_count": 3,
     "metadata": {},
     "output_type": "execute_result"
    }
   ],
   "source": [
    "# standardize column names\n",
    "steam.columns = [c.lower() for c in steam.columns]\n",
    "tags.columns  = [c.lower()  for c in tags.columns]\n",
    "\n",
    "# keep a useful subset if present\n",
    "keep = [\n",
    "    \"appid\",\"name\",\"release_date\",\"english\",\"developer\",\"publisher\",\n",
    "    \"platforms\",\"required_age\",\"categories\",\"genres\",\"steamspy_tags\",\n",
    "    \"achievements\",\"positive_ratings\",\"negative_ratings\",\"average_playtime\",\n",
    "    \"median_playtime\",\"owners\",\"price\"\n",
    "]\n",
    "steam = steam[[c for c in keep if c in steam.columns]].copy()\n",
    "\n",
    "# release year\n",
    "steam[\"release_year\"] = pd.to_datetime(steam[\"release_date\"], errors=\"coerce\").dt.year\n",
    "\n",
    "# total reviews\n",
    "steam[\"positive_ratings\"] = pd.to_numeric(steam[\"positive_ratings\"], errors=\"coerce\").fillna(0)\n",
    "steam[\"negative_ratings\"] = pd.to_numeric(steam[\"negative_ratings\"], errors=\"coerce\").fillna(0)\n",
    "steam[\"reviews_total\"] = steam[\"positive_ratings\"] + steam[\"negative_ratings\"]\n",
    "\n",
    "# ARPG flag:\n",
    "#   True if \"Action RPG\" appears in steamspy_tags\n",
    "#   Or if genres contains both \"Action\" and \"RPG\"\n",
    "def is_arpg_row(row):\n",
    "    g  = (row.get(\"genres\") or \"\").lower()\n",
    "    st = (row.get(\"steamspy_tags\") or \"\").lower()\n",
    "    return (\"action rpg\" in st) or (\"action\" in g and \"rpg\" in g)\n",
    "\n",
    "steam[\"is_arpg\"] = steam.apply(is_arpg_row, axis=1)\n",
    "\n",
    "# reshape steamspy_tag_data to long form:\n",
    "# resulting columns: appid, tag, pct\n",
    "tag_long = (\n",
    "    tags\n",
    "    .set_index(\"appid\")\n",
    "    .stack()\n",
    "    .reset_index(name=\"pct\")         # value column named \"pct\"\n",
    "    .rename(columns={\"level_1\": \"tag\"})\n",
    ")\n",
    "\n",
    "# keep only positive% tags\n",
    "tag_long = tag_long[tag_long[\"pct\"] > 0]\n",
    "\n",
    "steam.head(3), tag_long.head(3)\n"
   ]
  },
  {
   "cell_type": "markdown",
   "id": "94a0b264",
   "metadata": {},
   "source": [
    "## Q1. How common are ARPGs on Steam?\n",
    "We estimate ARPG status using tags/genres. What fraction of Steam titles are ARPGs?"
   ]
  },
  {
   "cell_type": "code",
   "execution_count": 4,
   "id": "f19084e1",
   "metadata": {},
   "outputs": [
    {
     "name": "stdout",
     "output_type": "stream",
     "text": [
      "ARPG games: 1,775 out of 27,075 (6.56%)\n"
     ]
    }
   ],
   "source": [
    "total_games = len(steam)\n",
    "arpg_games  = int(steam[\"is_arpg\"].sum())\n",
    "pct_arpg    = (arpg_games / total_games * 100) if total_games else np.nan\n",
    "\n",
    "print(f\"ARPG games: {arpg_games:,} out of {total_games:,} ({pct_arpg:.2f}%)\")\n"
   ]
  },
  {
   "cell_type": "code",
   "execution_count": 5,
   "id": "b354b2ce",
   "metadata": {},
   "outputs": [
    {
     "data": {
      "text/markdown": [
       "**Answer:** ARPGs represent approximately **6.56%** of Steam titles (**1,775** of **27,075**)."
      ],
      "text/plain": [
       "<IPython.core.display.Markdown object>"
      ]
     },
     "metadata": {},
     "output_type": "display_data"
    }
   ],
   "source": [
    "say(\n",
    "    f\"**Answer:** ARPGs represent approximately **{pct_arpg:.2f}%** of Steam titles \"\n",
    "    f\"(**{arpg_games:,}** of **{total_games:,}**).\"\n",
    ")\n"
   ]
  },
  {
   "cell_type": "markdown",
   "id": "c414167b",
   "metadata": {},
   "source": [
    "## Q2. Do ARPGs tend to be priced differently than other games?\n",
    "We compare median prices across ARPG vs Non-ARPG. We also report a “paid-only” comparison (excluding free games).\n"
   ]
  },
  {
   "cell_type": "code",
   "execution_count": 6,
   "id": "a985d935",
   "metadata": {},
   "outputs": [
    {
     "data": {
      "text/plain": [
       "is_arpg\n",
       "ARPG        5.99\n",
       "Non-ARPG    3.99\n",
       "Name: price, dtype: float64"
      ]
     },
     "execution_count": 6,
     "metadata": {},
     "output_type": "execute_result"
    }
   ],
   "source": [
    "price_summary_all = (\n",
    "    steam[[\"is_arpg\",\"price\"]]\n",
    "    .dropna(subset=[\"price\"])\n",
    "    .groupby(\"is_arpg\")[\"price\"]\n",
    "    .median()\n",
    "    .rename({False:\"Non-ARPG\", True:\"ARPG\"})\n",
    "    .sort_index()\n",
    ")\n",
    "price_summary_all\n"
   ]
  },
  {
   "cell_type": "code",
   "execution_count": 7,
   "id": "07140377",
   "metadata": {},
   "outputs": [
    {
     "data": {
      "text/plain": [
       "is_arpg\n",
       "Non-ARPG    4.79\n",
       "ARPG        6.99\n",
       "Name: price, dtype: float64"
      ]
     },
     "execution_count": 7,
     "metadata": {},
     "output_type": "execute_result"
    }
   ],
   "source": [
    "price_paid = steam.loc[steam[\"price\"].notna() & (steam[\"price\"] > 0), [\"is_arpg\",\"price\"]]\n",
    "price_summary_paid = price_paid.groupby(\"is_arpg\")[\"price\"].median().rename({False:\"Non-ARPG\", True:\"ARPG\"})\n",
    "price_summary_paid\n"
   ]
  },
  {
   "cell_type": "code",
   "execution_count": 8,
   "id": "06c1ae70",
   "metadata": {},
   "outputs": [
    {
     "data": {
      "image/png": "[encoded data removed]",
      "text/plain": [
       "<Figure size 600x400 with 1 Axes>"
      ]
     },
     "metadata": {},
     "output_type": "display_data"
    }
   ],
   "source": [
    "ax = price_paid.replace({True:\"ARPG\", False:\"Non-ARPG\"}).boxplot(by=\"is_arpg\", column=\"price\", grid=False, figsize=(6,4))\n",
    "plt.suptitle(\"\")\n",
    "plt.title(\"Price distribution (paid-only)\")\n",
    "plt.ylabel(\"Price (USD)\")\n",
    "plt.tight_layout()\n",
    "plt.savefig(OUT / \"price_arpg_vs_non_paid.png\", bbox_inches=\"tight\")\n"
   ]
  },
  {
   "cell_type": "code",
   "execution_count": 9,
   "id": "1d0b8837",
   "metadata": {},
   "outputs": [
    {
     "data": {
      "text/markdown": [
       "**Answer:** All titles median price — ARPG **N/A** vs Non-ARPG **N/A**.  \n",
       "Paid-only median price — ARPG **N/A** vs Non-ARPG **N/A**."
      ],
      "text/plain": [
       "<IPython.core.display.Markdown object>"
      ]
     },
     "metadata": {},
     "output_type": "display_data"
    }
   ],
   "source": [
    "arpg_all  = price_summary_all.get(True,  float(\"nan\"))\n",
    "non_all   = price_summary_all.get(False, float(\"nan\"))\n",
    "arpg_paid = price_summary_paid.get(True,  float(\"nan\"))\n",
    "non_paid  = price_summary_paid.get(False, float(\"nan\"))\n",
    "\n",
    "say(\n",
    "    \"**Answer:** \"\n",
    "    f\"All titles median price — ARPG **{fmt_money(arpg_all)}** vs Non-ARPG **{fmt_money(non_all)}**.  \\n\"\n",
    "    f\"Paid-only median price — ARPG **{fmt_money(arpg_paid)}** vs Non-ARPG **{fmt_money(non_paid)}**.\"\n",
    ")"
   ]
  },
  {
   "cell_type": "markdown",
   "id": "4d83c1e9",
   "metadata": {},
   "source": [
    "## Q3. Do ARPGs get more positive review share?\n",
    "We compute % positive = positive_ratings / (positive + negative), then compare medians across ARPG vs Non-ARPG."
   ]
  },
  {
   "cell_type": "code",
   "execution_count": 10,
   "id": "f0dd05aa",
   "metadata": {},
   "outputs": [
    {
     "data": {
      "text/plain": [
       "is_arpg\n",
       "Non-ARPG    0.763636\n",
       "ARPG        0.726673\n",
       "Name: pos_rate, dtype: float64"
      ]
     },
     "execution_count": 10,
     "metadata": {},
     "output_type": "execute_result"
    }
   ],
   "source": [
    "rev = steam[[\"is_arpg\",\"positive_ratings\",\"negative_ratings\"]].copy()\n",
    "rev[[\"positive_ratings\",\"negative_ratings\"]] = rev[[\"positive_ratings\",\"negative_ratings\"]].fillna(0)\n",
    "rev[\"total\"] = rev[\"positive_ratings\"] + rev[\"negative_ratings\"]\n",
    "rev = rev.loc[rev[\"total\"] > 0].copy()\n",
    "rev[\"pos_rate\"] = rev[\"positive_ratings\"] / rev[\"total\"]\n",
    "\n",
    "med_pos_rate = rev.groupby(\"is_arpg\")[\"pos_rate\"].median().rename({False:\"Non-ARPG\", True:\"ARPG\"})\n",
    "med_pos_rate\n"
   ]
  },
  {
   "cell_type": "code",
   "execution_count": 11,
   "id": "23a9891c",
   "metadata": {},
   "outputs": [
    {
     "data": {
      "text/markdown": [
       "**Answer:** Median positive-review share — ARPG **nan%** vs Non-ARPG **nan%**."
      ],
      "text/plain": [
       "<IPython.core.display.Markdown object>"
      ]
     },
     "metadata": {},
     "output_type": "display_data"
    }
   ],
   "source": [
    "say(\n",
    "    f\"**Answer:** Median positive-review share — \"\n",
    "    f\"ARPG **{med_pos_rate.get(True, float('nan')):.1%}** vs \"\n",
    "    f\"Non-ARPG **{med_pos_rate.get(False, float('nan')):.1%}**.\"\n",
    ")\n"
   ]
  },
  {
   "cell_type": "markdown",
   "id": "7e81fc3c",
   "metadata": {},
   "source": [
    "## Q4. How has ARPG release volume changed over time?\n",
    "We count distinct ARPG titles per release year and plot the last decade."
   ]
  },
  {
   "cell_type": "code",
   "execution_count": 12,
   "id": "5ee62641",
   "metadata": {},
   "outputs": [
    {
     "data": {
      "text/plain": [
       "release_year\n",
       "2008      5\n",
       "2009     12\n",
       "2010     13\n",
       "2011     17\n",
       "2012     24\n",
       "2013     34\n",
       "2014     98\n",
       "2015    213\n",
       "2016    269\n",
       "2017    394\n",
       "2018    525\n",
       "2019    164\n",
       "Name: appid, dtype: int64"
      ]
     },
     "execution_count": 12,
     "metadata": {},
     "output_type": "execute_result"
    },
    {
     "data": {
      "image/png": "[encoded data removed]",
      "text/plain": [
       "<Figure size 1000x300 with 1 Axes>"
      ]
     },
     "metadata": {},
     "output_type": "display_data"
    }
   ],
   "source": [
    "arpg_by_year = (\n",
    "    steam.loc[steam[\"is_arpg\"] & steam[\"release_year\"].notna()]\n",
    "         .groupby(\"release_year\")[\"appid\"].nunique()\n",
    "         .astype(int)\n",
    "         .sort_index()\n",
    ")\n",
    "\n",
    "ax = arpg_by_year.plot(kind=\"bar\", figsize=(10,3), title=\"ARPG releases per year\")\n",
    "ax.set_xlabel(\"Year\"); ax.set_ylabel(\"# ARPGs\")\n",
    "plt.tight_layout()\n",
    "plt.savefig(OUT / \"arpg_by_year.png\", bbox_inches=\"tight\")\n",
    "\n",
    "arpg_by_year.tail(12)\n"
   ]
  },
  {
   "cell_type": "code",
   "execution_count": 13,
   "id": "38d9dc1e",
   "metadata": {},
   "outputs": [
    {
     "data": {
      "text/markdown": [
       "**Answer:** ARPG releases peak in **2018** with **525** titles.  \n",
       "Recent years (last 10): 2010: 13, 2011: 17, 2012: 24, 2013: 34, 2014: 98, 2015: 213, 2016: 269, 2017: 394, 2018: 525, 2019: 164.  \n",
       "See the figure saved to `reports/arpg_by_year.png`."
      ],
      "text/plain": [
       "<IPython.core.display.Markdown object>"
      ]
     },
     "metadata": {},
     "output_type": "display_data"
    }
   ],
   "source": [
    "if len(arpg_by_year):\n",
    "    peak_year = int(arpg_by_year.idxmax())\n",
    "    peak_val  = int(arpg_by_year.max())\n",
    "    tail_txt  = \", \".join(f\"{int(y)}: {int(n)}\" for y, n in arpg_by_year.tail(10).items())\n",
    "else:\n",
    "    peak_year, peak_val, tail_txt = \"N/A\", \"N/A\", \"(no data)\"\n",
    "\n",
    "say(\n",
    "    f\"**Answer:** ARPG releases peak in **{peak_year}** with **{peak_val}** titles.  \\n\"\n",
    "    f\"Recent years (last 10): {tail_txt}.  \\n\"\n",
    "    \"See the figure saved to `reports/arpg_by_year.png`.\"\n",
    ")\n"
   ]
  },
  {
   "cell_type": "markdown",
   "id": "9680273c",
   "metadata": {},
   "source": [
    "## Q5. What tags most often co-occur with ARPGs?\n",
    "Using the long tag table, we sum tag percentages across ARPG titles and list the top co-tags."
   ]
  },
  {
   "cell_type": "code",
   "execution_count": 14,
   "id": "6267d5f3",
   "metadata": {},
   "outputs": [
    {
     "data": {
      "text/html": [
       "<div>\n",
       "<style scoped>\n",
       "    .dataframe tbody tr th:only-of-type {\n",
       "        vertical-align: middle;\n",
       "    }\n",
       "\n",
       "    .dataframe tbody tr th {\n",
       "        vertical-align: top;\n",
       "    }\n",
       "\n",
       "    .dataframe thead th {\n",
       "        text-align: right;\n",
       "    }\n",
       "</style>\n",
       "<table border=\"1\" class=\"dataframe\">\n",
       "  <thead>\n",
       "    <tr style=\"text-align: right;\">\n",
       "      <th></th>\n",
       "      <th>sum_pct</th>\n",
       "    </tr>\n",
       "    <tr>\n",
       "      <th>tag</th>\n",
       "      <th></th>\n",
       "    </tr>\n",
       "  </thead>\n",
       "  <tbody>\n",
       "    <tr>\n",
       "      <th>action</th>\n",
       "      <td>122541</td>\n",
       "    </tr>\n",
       "    <tr>\n",
       "      <th>rpg</th>\n",
       "      <td>116989</td>\n",
       "    </tr>\n",
       "    <tr>\n",
       "      <th>adventure</th>\n",
       "      <td>89003</td>\n",
       "    </tr>\n",
       "    <tr>\n",
       "      <th>multiplayer</th>\n",
       "      <td>70531</td>\n",
       "    </tr>\n",
       "    <tr>\n",
       "      <th>open_world</th>\n",
       "      <td>69886</td>\n",
       "    </tr>\n",
       "    <tr>\n",
       "      <th>indie</th>\n",
       "      <td>69851</td>\n",
       "    </tr>\n",
       "    <tr>\n",
       "      <th>survival</th>\n",
       "      <td>59531</td>\n",
       "    </tr>\n",
       "    <tr>\n",
       "      <th>co_op</th>\n",
       "      <td>45965</td>\n",
       "    </tr>\n",
       "    <tr>\n",
       "      <th>singleplayer</th>\n",
       "      <td>42928</td>\n",
       "    </tr>\n",
       "    <tr>\n",
       "      <th>sandbox</th>\n",
       "      <td>38338</td>\n",
       "    </tr>\n",
       "    <tr>\n",
       "      <th>crafting</th>\n",
       "      <td>37887</td>\n",
       "    </tr>\n",
       "    <tr>\n",
       "      <th>free_to_play</th>\n",
       "      <td>30168</td>\n",
       "    </tr>\n",
       "    <tr>\n",
       "      <th>building</th>\n",
       "      <td>29172</td>\n",
       "    </tr>\n",
       "    <tr>\n",
       "      <th>fps</th>\n",
       "      <td>26370</td>\n",
       "    </tr>\n",
       "    <tr>\n",
       "      <th>massively_multiplayer</th>\n",
       "      <td>23679</td>\n",
       "    </tr>\n",
       "  </tbody>\n",
       "</table>\n",
       "</div>"
      ],
      "text/plain": [
       "                       sum_pct\n",
       "tag                           \n",
       "action                  122541\n",
       "rpg                     116989\n",
       "adventure                89003\n",
       "multiplayer              70531\n",
       "open_world               69886\n",
       "indie                    69851\n",
       "survival                 59531\n",
       "co_op                    45965\n",
       "singleplayer             42928\n",
       "sandbox                  38338\n",
       "crafting                 37887\n",
       "free_to_play             30168\n",
       "building                 29172\n",
       "fps                      26370\n",
       "massively_multiplayer    23679"
      ]
     },
     "execution_count": 14,
     "metadata": {},
     "output_type": "execute_result"
    }
   ],
   "source": [
    "top_arpg_tags = (\n",
    "    tag_long.merge(steam[[\"appid\",\"is_arpg\"]], on=\"appid\", how=\"inner\")\n",
    "            .query(\"is_arpg == True\")\n",
    "            .groupby(\"tag\")[\"pct\"].sum()\n",
    "            .sort_values(ascending=False)\n",
    "            .head(15)\n",
    ")\n",
    "\n",
    "top_arpg_tags.to_frame(\"sum_pct\")\n"
   ]
  },
  {
   "cell_type": "code",
   "execution_count": 15,
   "id": "5d459617",
   "metadata": {},
   "outputs": [
    {
     "data": {
      "text/markdown": [
       "**Answer:** Common ARPG co-tags include: **action, rpg, adventure, multiplayer, open_world**."
      ],
      "text/plain": [
       "<IPython.core.display.Markdown object>"
      ]
     },
     "metadata": {},
     "output_type": "display_data"
    }
   ],
   "source": [
    "top5 = \", \".join(top_arpg_tags.head(5).index.tolist()) if len(top_arpg_tags) else \"N/A\"\n",
    "say(f\"**Answer:** Common ARPG co-tags include: **{top5}**.\")\n"
   ]
  },
  {
   "cell_type": "markdown",
   "id": "39888779",
   "metadata": {},
   "source": [
    "## Is there a relationship between price and total reviews for ARPGs?\n",
    "We compute Pearson correlation and show a scatterplot.\n"
   ]
  },
  {
   "cell_type": "code",
   "execution_count": 16,
   "id": "a374ff20",
   "metadata": {},
   "outputs": [
    {
     "data": {
      "text/plain": [
       "0.17598766591384"
      ]
     },
     "execution_count": 16,
     "metadata": {},
     "output_type": "execute_result"
    },
    {
     "data": {
      "image/png": "[encoded data removed]",
      "text/plain": [
       "<Figure size 600x400 with 1 Axes>"
      ]
     },
     "metadata": {},
     "output_type": "display_data"
    }
   ],
   "source": [
    "arpg = steam.loc[steam[\"is_arpg\"]].copy()\n",
    "arpg[\"reviews_total\"] = arpg[\"reviews_total\"].fillna(0)\n",
    "arpg_plot = arpg.loc[arpg[\"price\"].notna() & arpg[\"reviews_total\"].notna()].copy()\n",
    "\n",
    "corr = arpg_plot[[\"price\",\"reviews_total\"]].corr().loc[\"price\",\"reviews_total\"]\n",
    "ax = arpg_plot.plot(kind=\"scatter\", x=\"price\", y=\"reviews_total\", alpha=0.3,\n",
    "                    title=f\"ARPG price vs reviews_total (corr={corr:.2f})\", figsize=(6,4))\n",
    "plt.tight_layout()\n",
    "plt.savefig(OUT / \"arpg_price_vs_reviews.png\", bbox_inches=\"tight\")\n",
    "\n",
    "float(corr)\n"
   ]
  },
  {
   "cell_type": "code",
   "execution_count": 17,
   "id": "716503fc",
   "metadata": {},
   "outputs": [
    {
     "data": {
      "text/markdown": [
       "**Answer:** Price–reviews correlation for ARPGs is **0.18** (near 0 = weak linear relationship)."
      ],
      "text/plain": [
       "<IPython.core.display.Markdown object>"
      ]
     },
     "metadata": {},
     "output_type": "display_data"
    }
   ],
   "source": [
    "say(f\"**Answer:** Price–reviews correlation for ARPGs is **{corr:.2f}** \"\n",
    "    \"(near 0 = weak linear relationship).\")\n"
   ]
  }
 ],
 "metadata": {
  "kernelspec": {
   "display_name": "Python 3",
   "language": "python",
   "name": "python3"
  },
  "language_info": {
   "codemirror_mode": {
    "name": "ipython",
    "version": 3
   },
   "file_extension": ".py",
   "mimetype": "text/x-python",
   "name": "python",
   "nbconvert_exporter": "python",
   "pygments_lexer": "ipython3",
   "version": "3.11.9"
  }
 },
 "nbformat": 4,
 "nbformat_minor": 5
}
